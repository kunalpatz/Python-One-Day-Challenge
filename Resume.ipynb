{
 "cells": [
  {
   "cell_type": "markdown",
   "metadata": {},
   "source": [
    "# Python One Day Challenge\n",
    "## The Optimized Exhibition Opening"
   ]
  },
  {
   "cell_type": "markdown",
   "metadata": {},
   "source": [
    "##### PATIL Kunal [MSc AIS, EPITA]"
   ]
  },
  {
   "cell_type": "markdown",
   "metadata": {},
   "source": [
    "### Understanding the challenge: \n",
    "To optimize the exhibition with ordering the pictures in frameglasses with list of tags. There are two types of paintings viz. Landscapes and portraits.\n",
    "The Frameglass can consist of only single landscape or two portraits in it. Tags will be the combination of two portraits in case of portrait for frame and tags are same for landscape for the particular frame.\n",
    "The scope of this optimization is to validate how interesting the order of paintings in a frame based on the relevancy of tags.\n",
    "Robot will like if there is relevancy or continuity between tags of two consecutive frames."
   ]
  },
  {
   "cell_type": "markdown",
   "metadata": {},
   "source": [
    "### Arborescenes\n",
    "\n",
    "```\n",
    "|- PDOC\n",
    "    |- PODC_final_score_PATIL_Kunal.py \n",
    "        > pilot: Two Calls: 1. \n",
    "                 Execute function to create submit files for each input file given\n",
    "                 provide Input Files and submit files to check score for each entry\n",
    "                 calculate the global score for each and show the summation\n",
    "    |- PDOC_PATIL_Kunal.py \n",
    "        > main program to execute function\n",
    "    |- [Input Files]\n",
    "        - 1_binary_landscapes.txt  \n",
    "        - 10_computable_moments.txt\n",
    "        - 11_randomizing_paintings.txt\n",
    "        - 110_oily_portraits.txt\n",
    "    |- [Submit Files]\n",
    "        - submit_1_binary_landscapes.txt\n",
    "        - submit_10_computable_moments.txt\n",
    "        - submit_11_randomizing_paintings.txt\n",
    "        - submit_110_oily_portraits.txt\n",
    "    |- resume.ipynb \n",
    "        > Description of the project\n",
    "```"
   ]
  },
  {
   "cell_type": "markdown",
   "metadata": {},
   "source": [
    "### Different Stratergies used:"
   ]
  },
  {
   "attachments": {},
   "cell_type": "markdown",
   "metadata": {},
   "source": [
    "| Stratergy\t| Description | Approach | Test data | Line count in submit file | Results | Summation |\n",
    "| --- | --- | --- | --- | --- | --- | --- |\n",
    "| Based on Tag size of Frame | Based on the tag size of each frame, making a list of the tagSize to arrange frames in a order | Sorted | 11_randomizing_paintings | 60000 | 212516 | 336601 |\n",
    "| | | Sorted | 110_oily_portraits | 40000 | 123900 |\n",
    "| | | Sorted | 1_binary_landscapes | 80000 | 9 |\n",
    "| | | Unsorted | 11_randomizing_paintings | 60000 | 212478 |\n",
    "| | | Unsorted | 110_oily_portraits | 40000 | 123865 |\n",
    "| Random shuffle of frame sequence | Using Random.shuffle with seek 50, shuffling the result of frame arrangement to generate new order | - | 11_randomizing_paintings | 60000 | 174218 | 293159 |\n",
    "| | |-| 110_oily_portraits | 40000 | 118762 |\n",
    "| | |-| 1_binary_landscapes | 80000 | 9 |\n",
    "| Straight frame sequence | No change after creation of sequence of frames | - | 11_randomizing_paintings | 60000 | 172791\n",
    "| | |-| 110_oily_portraits | 40000 | 118534 | 291490 |\n",
    "| | |-| 1_binary_landscapes | 80000 | 12 |\n",
    "| maximum common tags | sequence of frames based on maximum number of common tags between consecutive frames | - | 11_randomizing_paintings | 60000 | FAIL |\n",
    "| | |-| 110_oily_portraits | 40000 | FAIL |\n",
    "| | |-| 1_binary_landscapes | 80000 | FAIL |"
   ]
  },
  {
   "cell_type": "markdown",
   "metadata": {},
   "source": [
    "### Choosing Stratergy:"
   ]
  },
  {
   "cell_type": "markdown",
   "metadata": {},
   "source": [
    "By analyzing results from above table, Ordering based on Tag size of frames:\n",
    "1. Number of Tags for Frame containing Landscape = Number of tags of landscape\n",
    "2. Number of Tags for Frame containing Portrait = Union of Tags for two portraits chosen\n",
    "\n",
    "The result using this stratergy on some test dataset are twice than result of using other stratergies on same dataset.\n",
    "Also the summation for global score of each dataset using different stratergies, Choosing frame ordering based on Tag Size of frames is the good approach."
   ]
  },
  {
   "cell_type": "markdown",
   "metadata": {},
   "source": [
    "### Output of Final score summation"
   ]
  },
  {
   "cell_type": "markdown",
   "metadata": {},
   "source": [
    "|Input Files | Global Score |\n",
    "|---|---|\n",
    "| 0_example.txt | 0 |\n",
    "| 1_binary_landscapes.txt | 9 |\n",
    "|    10_computable_moments.txt    |   175 |\n",
    "|  11_randomizing_paintings.txt   |     212516 |\n",
    "|        110_oily_portraits.txt  |  123901 |\n",
    "|                   Total Score | 336601 |"
   ]
  },
  {
   "cell_type": "code",
   "execution_count": 0,
   "metadata": {
    "pycharm": {
     "is_executing": false
    }
   },
   "outputs": [],
   "source": []
  }
 ],
 "metadata": {
  "kernelspec": {
   "display_name": "Python 3",
   "language": "python",
   "name": "python3"
  },
  "language_info": {
   "codemirror_mode": {
    "name": "ipython",
    "version": 3
   },
   "file_extension": ".py",
   "mimetype": "text/x-python",
   "name": "python",
   "nbconvert_exporter": "python",
   "pygments_lexer": "ipython3",
   "version": "3.8.1"
  },
  "pycharm": {
   "stem_cell": {
    "cell_type": "raw",
    "source": [],
    "metadata": {
     "collapsed": false
    }
   }
  }
 },
 "nbformat": 4,
 "nbformat_minor": 4
}